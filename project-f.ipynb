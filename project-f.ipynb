{
    "cells": [
        {
            "metadata": {
                "collapsed": true
            },
            "cell_type": "markdown",
            "source": "# My Jupyter Notebook on IBM Watson Studio"
        },
        {
            "metadata": {},
            "cell_type": "markdown",
            "source": "**Fatih AKAY**  \nI want to be a data scientist."
        },
        {
            "metadata": {},
            "cell_type": "markdown",
            "source": "_I am interested in data science because I love discover mysteries and I would like to walk along to the future._"
        },
        {
            "metadata": {},
            "cell_type": "markdown",
            "source": "### The following code show the Date and Time"
        },
        {
            "metadata": {},
            "cell_type": "code",
            "source": "from datetime import datetime\nstr(datetime.now())",
            "execution_count": 2,
            "outputs": [
                {
                    "output_type": "execute_result",
                    "execution_count": 2,
                    "data": {
                        "text/plain": "'2020-07-12 23:53:34.356047'"
                    },
                    "metadata": {}
                }
            ]
        },
        {
            "metadata": {},
            "cell_type": "markdown",
            "source": "**I take refuge in Allah from useless knowledge**\n1. Green \n2. White \n3. Blue  \n[My relative reference repository file](https://github.com/akayf/Notebooks.git)"
        }
    ],
    "metadata": {
        "kernelspec": {
            "name": "python3",
            "display_name": "Python 3.6",
            "language": "python"
        },
        "language_info": {
            "name": "python",
            "version": "3.6.9",
            "mimetype": "text/x-python",
            "codemirror_mode": {
                "name": "ipython",
                "version": 3
            },
            "pygments_lexer": "ipython3",
            "nbconvert_exporter": "python",
            "file_extension": ".py"
        }
    },
    "nbformat": 4,
    "nbformat_minor": 1
}